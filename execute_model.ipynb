{
 "cells": [
  {
   "cell_type": "markdown",
   "metadata": {},
   "source": [
    "### Comando utilizado para testes (--small-dataset)"
   ]
  },
  {
   "cell_type": "code",
   "execution_count": null,
   "metadata": {},
   "outputs": [],
   "source": [
    "!python main.py --y-step 20 -i 1 -e 30 -v 4 -r 0.00001 -m stconvs2s-r --plot --small-dataset --dataset dataset-shallow-water-eta-20.0km-xseq10-yseq10-ystep10.nc --verbose"
   ]
  },
  {
   "cell_type": "markdown",
   "metadata": {},
   "source": [
    "### Comando utilizado para treinamento"
   ]
  },
  {
   "cell_type": "code",
   "execution_count": null,
   "metadata": {},
   "outputs": [],
   "source": [
    "r = 0.0001 # regularization used in loss function\n",
    "lr = 0.0001 # learning rate\n",
    "e = 40 # epochs\n",
    "m = \"stconvs2s-r\" # model\n",
    "file = f\"./output/full-dataset/results/{m}/eta/sequences.out\" # file to save output\n",
    "for seq in range(1,20):\n",
    "    print(f\"{seq}-{seq}\")\n",
    "    ds = f\"dataset-shallow-water-eta-20.0km-xseq{seq}-yseq{seq}-ystep10.nc\"\n",
    "    !python main.py -k 3 -i 1 -v 4 --x-step {seq} --y-step {seq} -r {r} -lr {lr} -m {m} --plot --no-stop -e {e} -b 8 --dataset {ds} --verbose"
   ]
  },
  {
   "cell_type": "code",
   "execution_count": null,
   "metadata": {},
   "outputs": [],
   "source": []
  }
 ],
 "metadata": {
  "kernelspec": {
   "display_name": "pytorch",
   "language": "python",
   "name": "pytorch"
  },
  "language_info": {
   "codemirror_mode": {
    "name": "ipython",
    "version": 3
   },
   "file_extension": ".py",
   "mimetype": "text/x-python",
   "name": "python",
   "nbconvert_exporter": "python",
   "pygments_lexer": "ipython3",
   "version": "3.6.7"
  }
 },
 "nbformat": 4,
 "nbformat_minor": 4
}
